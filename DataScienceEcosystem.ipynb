{
 "cells": [
  {
   "cell_type": "markdown",
   "metadata": {},
   "source": [
    "In this notebook, Data Science Tools and Ecosystem are summarized."
   ]
  },
  {
   "cell_type": "markdown",
   "metadata": {},
   "source": [
    "Some of the popular languages that Data Scientists use are:\n",
    "1-R\n",
    "2-Python\n",
    "3-Java"
   ]
  },
  {
   "cell_type": "markdown",
   "metadata": {},
   "source": [
    "Some of the popular languages that Data Scientists use are:\n",
    "\n",
    "1-Panda in python\n",
    "2-caret in R\n",
    "3-Numpy in python \n"
   ]
  },
  {
   "cell_type": "markdown",
   "metadata": {},
   "source": [
    "Data Science Tools:\n",
    "\n",
    "1. Programming Languages\n",
    "2. Libraries:\n",
    "3. Integrated Development Environments (IDEs)\n",
    "4. Data Visualization Tools\n",
    "5. Machine Learning Frameworks\n",
    "6. Databases\n",
    "7. Big Data Tools\n",
    "8. Version Control\n",
    "\n"
   ]
  }
 ],
 "metadata": {
  "language_info": {
   "name": "python"
  }
 },
 "nbformat": 4,
 "nbformat_minor": 2
}
